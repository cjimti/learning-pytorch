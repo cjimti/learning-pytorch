{
  "nbformat": 4,
  "nbformat_minor": 0,
  "metadata": {
    "colab": {
      "name": "01-notes.ipynb",
      "version": "0.3.2",
      "provenance": [],
      "toc_visible": true,
      "include_colab_link": true
    },
    "kernelspec": {
      "name": "python3",
      "display_name": "Python 3"
    },
    "accelerator": "GPU"
  },
  "cells": [
    {
      "cell_type": "markdown",
      "metadata": {
        "id": "view-in-github",
        "colab_type": "text"
      },
      "source": [
        "[View in Colaboratory](https://colab.research.google.com/github/cjimti/learning-pytorch/blob/master/01_notes.ipynb)"
      ]
    },
    {
      "metadata": {
        "id": "SlE4a6RjJ1Xo",
        "colab_type": "text"
      },
      "cell_type": "markdown",
      "source": [
        "---\n",
        "published: true\n",
        "layout: post\n",
        "title: Essential PyTorch\n",
        "tags: coding python\n",
        "featured: coding python\n",
        "mast: torch\n",
        "---"
      ]
    },
    {
      "metadata": {
        "id": "Y_TBVJ8NKCOM",
        "colab_type": "text"
      },
      "cell_type": "markdown",
      "source": [
        "The Facebook AI Research team released [PyTorch], \"a deep learning framework for fast, flexible experimentation.\" as an open source project in early 2017. [PyTorch] has gained rapid adoption by the deep learning community for building neural networks in Python, and working seamlessly with [numpy], [PyTorch] could even be used as a [numpy] replacement.\n",
        "\n",
        "\n",
        "### Install\n",
        "\n",
        "Install using [Anaconda]:\n",
        "\n",
        "```bash\n",
        "conda install pytorch torchvision -c pytorch\n",
        "```\n",
        "\n",
        "### Tensors\n",
        "\n",
        "[PyTorch] allows you to build neural networks using tensors. Tensors in [PyTorch] are easlity converted to and from nsarrays in [numpy]. So, if you have worked with [numpy] you have worked with [PyTorch] tensors.\n",
        "\n",
        "\n",
        "\n",
        "[PyTorch]: https://pytorch.org/\n",
        "[numpy]: https://mk.imti.co/python-data-essentials-numpy/\n",
        "[tensor]: https://en.wikipedia.org/wiki/Tensor\n",
        "[Anaconda]: https://conda.io/docs/user-guide/install/download.html"
      ]
    },
    {
      "metadata": {
        "id": "rXep2HuuIbG0",
        "colab_type": "code",
        "colab": {
          "base_uri": "https://localhost:8080/",
          "height": 377
        },
        "outputId": "8c8528a6-5d18-4dcd-be8b-6f36332156a3"
      },
      "cell_type": "code",
      "source": [
        "import numpy as np\n",
        "import pandas as pd\n",
        "import matplotlib.pyplot as plt\n",
        "import seaborn as sb\n",
        "\n",
        "%matplotlib inline\n",
        "\n",
        "# http://pytorch.org/\n",
        "!pip3 install torch torchvision\n",
        "import torch\n",
        "\n",
        "a = [[1,2], [3,4]]\n",
        "print(a)\n",
        "\n",
        "np.array(a)"
      ],
      "execution_count": 1,
      "outputs": [
        {
          "output_type": "stream",
          "text": [
            "Collecting torch\n",
            "\u001b[?25l  Downloading https://files.pythonhosted.org/packages/69/43/380514bd9663f1bf708abeb359b8b48d3fabb1c8e95bb3427a980a064c57/torch-0.4.0-cp36-cp36m-manylinux1_x86_64.whl (484.0MB)\n",
            "\u001b[K    100% |████████████████████████████████| 484.0MB 28kB/s \n",
            "tcmalloc: large alloc 1073750016 bytes == 0x5c760000 @  0x7f043cbec1c4 0x46d6a4 0x5fcbcc 0x4c494d 0x54f3c4 0x553aaf 0x54e4c8 0x54f4f6 0x553aaf 0x54efc1 0x54f24d 0x553aaf 0x54efc1 0x54f24d 0x553aaf 0x54efc1 0x54f24d 0x551ee0 0x54e4c8 0x54f4f6 0x553aaf 0x54efc1 0x54f24d 0x551ee0 0x54efc1 0x54f24d 0x551ee0 0x54e4c8 0x54f4f6 0x553aaf 0x54e4c8\n",
            "\u001b[?25hCollecting torchvision\n",
            "\u001b[?25l  Downloading https://files.pythonhosted.org/packages/ca/0d/f00b2885711e08bd71242ebe7b96561e6f6d01fdb4b9dcf4d37e2e13c5e1/torchvision-0.2.1-py2.py3-none-any.whl (54kB)\n",
            "\u001b[K    100% |████████████████████████████████| 61kB 9.4MB/s \n",
            "\u001b[?25hRequirement already satisfied: six in /usr/local/lib/python3.6/dist-packages (from torchvision) (1.11.0)\n",
            "Requirement already satisfied: numpy in /usr/local/lib/python3.6/dist-packages (from torchvision) (1.14.5)\n",
            "Collecting pillow>=4.1.1 (from torchvision)\n",
            "\u001b[?25l  Downloading https://files.pythonhosted.org/packages/d1/24/f53ff6b61b3d728b90934bddb4f03f8ab584a7f49299bf3bde56e2952612/Pillow-5.2.0-cp36-cp36m-manylinux1_x86_64.whl (2.0MB)\n",
            "\u001b[K    100% |████████████████████████████████| 2.0MB 1.9MB/s \n",
            "\u001b[?25hInstalling collected packages: torch, pillow, torchvision\n"
          ],
          "name": "stdout"
        },
        {
          "output_type": "stream",
          "text": [
            "  Found existing installation: Pillow 4.0.0\n",
            "    Uninstalling Pillow-4.0.0:\n",
            "      Successfully uninstalled Pillow-4.0.0\n",
            "Successfully installed pillow-5.2.0 torch-0.4.0 torchvision-0.2.1\n",
            "[[1, 2], [3, 4]]\n"
          ],
          "name": "stdout"
        },
        {
          "output_type": "execute_result",
          "data": {
            "text/plain": [
              "array([[1, 2],\n",
              "       [3, 4]])"
            ]
          },
          "metadata": {
            "tags": []
          },
          "execution_count": 1
        }
      ]
    },
    {
      "metadata": {
        "id": "uc7zQ5ImKKFj",
        "colab_type": "code",
        "colab": {
          "base_uri": "https://localhost:8080/",
          "height": 51
        },
        "outputId": "b1e78a1b-25b0-4694-c138-e9ac0ba8bff6"
      },
      "cell_type": "code",
      "source": [
        "torch.Tensor(a)"
      ],
      "execution_count": 2,
      "outputs": [
        {
          "output_type": "execute_result",
          "data": {
            "text/plain": [
              "tensor([[ 1.,  2.],\n",
              "        [ 3.,  4.]])"
            ]
          },
          "metadata": {
            "tags": []
          },
          "execution_count": 2
        }
      ]
    },
    {
      "metadata": {
        "id": "gamyTdIjLsko",
        "colab_type": "code",
        "colab": {
          "base_uri": "https://localhost:8080/",
          "height": 68
        },
        "outputId": "8e81210f-43cb-4f99-9371-89765ac79fb8"
      },
      "cell_type": "code",
      "source": [
        "tensor_cpu = torch.ones(2,2)\n",
        "\n",
        "# move to GPU if available (CPU is default)\n",
        "if torch.cuda.is_available():\n",
        "  print(\"GPU is available.\")\n",
        "  tensor_cpu.cuda()\n",
        "    \n",
        "tensor_cpu.cuda()"
      ],
      "execution_count": 3,
      "outputs": [
        {
          "output_type": "stream",
          "text": [
            "GPU is available.\n"
          ],
          "name": "stdout"
        },
        {
          "output_type": "execute_result",
          "data": {
            "text/plain": [
              "tensor([[ 1.,  1.],\n",
              "        [ 1.,  1.]], device='cuda:0')"
            ]
          },
          "metadata": {
            "tags": []
          },
          "execution_count": 3
        }
      ]
    },
    {
      "metadata": {
        "id": "Sw-shJ3cL2JU",
        "colab_type": "code",
        "colab": {}
      },
      "cell_type": "code",
      "source": [
        ""
      ],
      "execution_count": 0,
      "outputs": []
    }
  ]
}